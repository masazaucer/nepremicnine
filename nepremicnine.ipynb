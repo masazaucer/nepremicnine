{
 "cells": [
  {
   "cell_type": "markdown",
   "metadata": {},
   "source": [
    "ANALIZA PODATKOV O NEPREMIČNINAH NA TRGU"
   ]
  },
  {
   "cell_type": "markdown",
   "metadata": {},
   "source": [
    "Najprej naložimo ustrezne knjižnice:"
   ]
  },
  {
   "cell_type": "code",
   "execution_count": 22,
   "metadata": {},
   "outputs": [],
   "source": [
    "import pandas as pd\n",
    "import numpy as np\n",
    "import os.path\n",
    "pd.options.display.max_rows = 13\n",
    "%matplotlib notebook"
   ]
  },
  {
   "cell_type": "markdown",
   "metadata": {},
   "source": [
    "Naložimo podatke, ki jih bomo analizirali:"
   ]
  },
  {
   "cell_type": "code",
   "execution_count": 32,
   "metadata": {},
   "outputs": [],
   "source": [
    "pot_oglasi = os.path.join('podatki_nepremicnine','nepremicnine.csv')\n",
    "pot_regije = os.path.join('podatki_nepremicnine','regije.csv')\n",
    "oglasi = pd.read_csv(pot_oglasi, index_col='id')\n",
    "regije = pd.read_csv(pot_regije, index_col='indeks')"
   ]
  }
 ],
 "metadata": {
  "interpreter": {
   "hash": "d3f9a571fbb89767e4f994e53f7a5728788ab771a9f51118e6f083ec13ca0738"
  },
  "kernelspec": {
   "display_name": "Python 3 (ipykernel)",
   "language": "python",
   "name": "python3"
  },
  "language_info": {
   "codemirror_mode": {
    "name": "ipython",
    "version": 3
   },
   "file_extension": ".py",
   "mimetype": "text/x-python",
   "name": "python",
   "nbconvert_exporter": "python",
   "pygments_lexer": "ipython3",
   "version": "3.9.1"
  }
 },
 "nbformat": 4,
 "nbformat_minor": 2
}
